{
 "cells": [
  {
   "attachments": {},
   "cell_type": "markdown",
   "metadata": {},
   "source": [
    "# Notebook to test QL "
   ]
  },
  {
   "cell_type": "code",
   "execution_count": 1,
   "metadata": {},
   "outputs": [],
   "source": [
    "import datetime as dt\n",
    "import os\n",
    "import QuantLib as ql\n",
    "import pandas as pd\n",
    "import matplotlib.pyplot as plt"
   ]
  },
  {
   "cell_type": "code",
   "execution_count": 2,
   "metadata": {},
   "outputs": [],
   "source": [
    "data_directory = os.path.abspath(os.path.join(\".\",\"..\", \"data\"))\n",
    "anchor_date = dt.date(2022, 2, 28)\n",
    "\n",
    "# Data is Saudi Government Sukuks\n",
    "data_directory =os.path.join(data_directory,f\"ql_{anchor_date:%Y-%m-%d}_yield_curve_points.csv\")\n",
    "yield_curve_input = pd.read_csv(data_directory, sep=\",\")\n",
    "yield_curve_input[\"Maturity Date\"] = pd.to_datetime(yield_curve_input[\"Maturity Date\"])"
   ]
  },
  {
   "cell_type": "code",
   "execution_count": 3,
   "metadata": {},
   "outputs": [],
   "source": [
    "# Extracting deposits data\n",
    "deposit_maturities = list(yield_curve_input.loc[yield_curve_input[\"Type\"] == \"Deposit\"][\"Maturity Date\"])\n",
    "deposit_maturities.insert(0, pd.to_datetime(anchor_date))\n",
    "deposit_rates = list(yield_curve_input.loc[yield_curve_input[\"Type\"] == \"Deposit\"][\"Adjusted YTM\"])\n",
    "deposit_rates.insert(0, deposit_rates[0])\n",
    "\n",
    "# Extracting bonds data\n",
    "bond_maturities = list(yield_curve_input.loc[yield_curve_input[\"Type\"] == \"Bond\"][\"Maturity Date\"])\n",
    "bond_rates = list(yield_curve_input.loc[yield_curve_input[\"Type\"] == \"Bond\"][\"Adjusted YTM\"])"
   ]
  },
  {
   "cell_type": "code",
   "execution_count": 4,
   "metadata": {},
   "outputs": [],
   "source": [
    "# Parameters\n",
    "ql_calc_date = ql.Date(anchor_date.day, anchor_date.month, anchor_date.year)\n",
    "ql.Settings.instance().evaluationDate = ql_calc_date\n",
    "calendar = ql.SaudiArabia()\n",
    "business_convention = ql.Following\n",
    "day_count = ql.Actual360()\n",
    "end_of_month = False\n",
    "settlement_days = 0\n",
    "face_amount = 100\n",
    "coupon_frequency = ql.Period(ql.Semiannual)"
   ]
  },
  {
   "cell_type": "code",
   "execution_count": 5,
   "metadata": {},
   "outputs": [],
   "source": [
    "# Constructing helpers\n",
    "depo_helpers = []\n",
    "for r, m in zip(deposit_rates, deposit_maturities): \n",
    "    maturity = ql.Period(ql.Actual360().dayCount(ql_calc_date, ql.Date(m.day, m.month, m.year)), ql.Days)\n",
    "    depo_helpers.append(ql.DepositRateHelper(ql.QuoteHandle(ql.SimpleQuote(r)),\n",
    "                                             maturity,\n",
    "                                             settlement_days,\n",
    "                                             calendar,\n",
    "                                             business_convention,\n",
    "                                             end_of_month,\n",
    "                                             day_count))\n",
    "\n",
    "bond_helpers = []\n",
    "for r, m in zip(bond_rates, bond_maturities):\n",
    "    maturity = ql_calc_date + ql.Period(ql.Actual360().dayCount(ql_calc_date, ql.Date(m.day, m.month, m.year)), ql.Days)\n",
    "    schedule = ql.Schedule(ql_calc_date,\n",
    "                           maturity,\n",
    "                           coupon_frequency,\n",
    "                           calendar,\n",
    "                           business_convention,\n",
    "                           business_convention,\n",
    "                           ql.DateGeneration.Backward,\n",
    "                           end_of_month)\n",
    "\n",
    "    bond_helper = ql.FixedRateBondHelper(ql.QuoteHandle(ql.SimpleQuote(face_amount)),\n",
    "                                         settlement_days,\n",
    "                                         face_amount,\n",
    "                                         schedule,\n",
    "                                         [r],\n",
    "                                         day_count,\n",
    "                                         business_convention)\n",
    "    bond_helpers.append(bond_helper)\n",
    "\n",
    "# Combining helpers\n",
    "rate_helpers = depo_helpers + bond_helpers"
   ]
  },
  {
   "cell_type": "code",
   "execution_count": 6,
   "metadata": {},
   "outputs": [],
   "source": [
    "def get_spot_rates(yieldcurve, day_count, calendar=ql.SaudiArabia(), months=361):\n",
    "    \n",
    "    spots = []\n",
    "    tenors = []\n",
    "    ref_date = yieldcurve.referenceDate()\n",
    "    calc_date = ref_date\n",
    "    for month in range(0, months):\n",
    "        yrs = month/12.0\n",
    "        d = calendar.advance(ref_date, ql.Period(month, ql.Months))\n",
    "        compounding = ql.Compounded\n",
    "        freq = ql.Annual\n",
    "        extrapolate = True\n",
    "        zero_rate = yieldcurve.zeroRate(yrs, compounding, freq, extrapolate)\n",
    "        tenors.append(yrs)\n",
    "        eq_rate = zero_rate.equivalentRate(day_count,compounding,freq,calc_date,d).rate()\n",
    "        spots.append(eq_rate)\n",
    "    \n",
    "    return pd.DataFrame(zip(tenors, spots), columns=[\"Maturities\",\"Curve\"], index=['']*len(tenors))"
   ]
  },
  {
   "cell_type": "code",
   "execution_count": 7,
   "metadata": {},
   "outputs": [
    {
     "data": {
      "text/plain": [
       "<matplotlib.legend.Legend at 0x216a8d2a4d0>"
      ]
     },
     "execution_count": 7,
     "metadata": {},
     "output_type": "execute_result"
    },
    {
     "data": {
      "image/png": "[encoded data removed]",
      "text/plain": [
       "<Figure size 640x480 with 1 Axes>"
      ]
     },
     "metadata": {},
     "output_type": "display_data"
    }
   ],
   "source": [
    "# Interpolation\n",
    "yc_linearzero = ql.PiecewiseLinearZero(ql_calc_date, rate_helpers, day_count)\n",
    "splz = get_spot_rates(yc_linearzero, day_count)\n",
    "\n",
    "# Plotting\n",
    "plt.plot(splz[\"Maturities\"],splz[\"Curve\"],'--', label=\"LinearZero\")\n",
    "plt.xlabel(\"Years\", size=12)\n",
    "plt.ylabel(\"Zero Rate\", size=12)\n",
    "plt.legend(loc=0)"
   ]
  }
 ],
 "metadata": {
  "kernelspec": {
   "display_name": "Python 3",
   "language": "python",
   "name": "python3"
  },
  "language_info": {
   "codemirror_mode": {
    "name": "ipython",
    "version": 3
   },
   "file_extension": ".py",
   "mimetype": "text/x-python",
   "name": "python",
   "nbconvert_exporter": "python",
   "pygments_lexer": "ipython3",
   "version": "3.10.2"
  },
  "orig_nbformat": 4,
  "vscode": {
   "interpreter": {
    "hash": "ba5828c3b8ef0d5ff4248bca7ba3002f1591c4aec04a9e77c0821afafcd8daef"
   }
  }
 },
 "nbformat": 4,
 "nbformat_minor": 2
}
