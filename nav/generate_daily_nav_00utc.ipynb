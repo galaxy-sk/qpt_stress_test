{
 "cells": [
  {
   "cell_type": "code",
   "execution_count": 1,
   "metadata": {
    "tags": []
   },
   "outputs": [],
   "source": [
    "import datetime as dt\n",
    "from common.utils import *"
   ]
  },
  {
   "cell_type": "code",
   "execution_count": 2,
   "metadata": {
    "tags": []
   },
   "outputs": [],
   "source": [
    "# USER INPUT: Enter today's date\n",
    "today     = dt.date(2023, 1, 30) # yyyy, mm, dd\n",
    "\n",
    "# Where is your datlib located? For some users, might have to append an IP\n",
    "datlib_loc = \"//10.17.182.172/datlib\"\n",
    "\n",
    "yesterday = today - dt.timedelta(days=1)"
   ]
  },
  {
   "cell_type": "code",
   "execution_count": 3,
   "metadata": {},
   "outputs": [],
   "source": [
    "bs_info = {\n",
    "    # \"bluescale4\" : {\"account_list\" : [\"HUBI-3-S1-F\", \"HUBI-3-S1-M\", \"HUBI-3-S1-M Loan\", \"HUBI-3-S1-P\", \"HUBI-3-S1-E\"],\n",
    "    #                 \"proc_name\" : \"trading.pnl.bluescale4_nav\",\n",
    "    #                 #\"interest_paid\" : 1.424657534 + 4.416438356 + 4.273972603 + 4.41643836,\n",
    "    #                 \"interest_paid\" : 0,\n",
    "    #                 #\"loans\" : [(\"BTC\", 650, 0.08, 365, dt.date(2021,2,19))]\n",
    "    #                 \"loans\" : [(\"BTC\", 0, 0.08, 365, dt.date(2021,2,19))]\n",
    "    #                 },\n",
    "\n",
    "    # \"bluescale5\" : {\"account_list\" : [\"HUBI-3-S2-F\", \"HUBI-3-S2-M\", \"HUBI-3-S2-M Loan\", \"HUBI-3-S2-P\", \"HUBI-3-S2-E\"],\n",
    "    #                 \"proc_name\" : \"trading.pnl.bluescale5_nav\",\n",
    "    #                 #\"interest_paid\" :  23.28767123 + 72.19178082 + 69.86301370 + 72.19178082,\n",
    "    #                 \"interest_paid\" :  0,\n",
    "    #                 #\"loans\" : [(\"ETH\", 10000, 0.085, 365, dt.date(2021,2,19))]\n",
    "    #                 \"loans\" : [(\"ETH\", 0, 0.085, 365, dt.date(2021,2,19))]\n",
    "    #                 },\n",
    "\n",
    "    \"bluescale6\" : {\"account_list\" : [\"HUBI-3-S3-F\", \"HUBI-3-S3-M\", \"HUBI-3-S3-M Loan\", \"HUBI-3-S3-P\", \"HUBI-3-S3-E\"],\n",
    "                    \"proc_name\" : \"trading.pnl.bluescale6_nav\",\n",
    "                    \"interest_paid\" : 0, #1.917808219 + 4.24657534 + 4.10958904 + 4.24657534 + 4.24657534 + 4.10958904 + 4.24657534 + \n",
    "                        #4.10958904 + 4.24657534 + 4.24657534 + 3.83561644 + 4.24657534 + 4.24657534 + 2.972602740 + 2.8767123387671233 + \n",
    "                        #2.87671233 + 2.97260274 + 2.87671233 + 2.87671233,\n",
    "                    \"loans\" : [(\"BTC\", 0, 0.10, 365, dt.date(2021,4,16))]\n",
    "                    }\n",
    "}"
   ]
  },
  {
   "cell_type": "code",
   "execution_count": 4,
   "metadata": {},
   "outputs": [],
   "source": [
    "# list of accounts\n",
    "exchanges = ['SHFT-1-W', 'HUBI-M', 'HUBI-E', 'HUB2-E', 'HUB2-M', 'LMAC', 'LMAX', 'KRKE', 'BTSE', 'PITX-E', 'WOOX-1-M-E', \n",
    "             'FUB2-M', 'HUBI-3-S3-M','OKEX-2-W1', 'OKEX-2-U1', 'FUBI-M', 'OKEX-2-S1', 'OKEX-2-S2', 'HUBI-1-M-P', \n",
    "             'FBLK-AUDIT-BINE', 'FBLK-AUDIT-HUBI', 'FBLK-AUDIT-OKEX', 'FBLK-Default', 'FBLK-GOTC-GACM', 'FBLK-LEND-BTGO', \n",
    "             'FBLK-LEND-DRAW', 'FBLK-LEND-OXTF', 'FBLK-LEND-XRPF', 'FBLK-LMAC-M', 'FBLK-Network Deposits', 'FBLK-PITX-E',\n",
    "             'FBLK-LEND-CELS', 'FBLK-LEND-GADI', 'FBLK-LEND-NICO', 'FBLK-LEND-GENX','FBLK-BINE-MX-S1','FBLK-DEFI-AAVE',\n",
    "             'FBLK-GOTC-BIGO','FBLK-DYDX-1-M-P','HUBI-3-S3-F','HUBI-3-S3-E','OKEX-2-S3','BTFX-1-M-E','FTXE-1-M-E',\n",
    "             'BULL-1-M-E','BULL-1-M-M','DYDX-1-M-P','BINE-MX-S1-P','BINE-MX-S1-F','BINE-MX-S1-E','BINE-MX-S1-M','BINE-2-S1-E',\n",
    "             'BINE-2-S1-F','BINE-2-S1-M','BINE-2-S1-P','BULL-2-M-E','BULL-2-M-M','HUBI-1-M-PT','BULL-3-M-E','BULL-4-M-E',\n",
    "             'LEND-GACM','FBLK-WOOX-1-M-E','FBLK-LEND-GACM','DEFI-STRAT-1','GATE-1-M-E','GATE-1-M-M',\n",
    "             'BINE-2-S2-E','BINE-2-S2-F','BINE-2-S2-M','BINE-2-S2-P','DEFI-STRAT-2','DEFI-STRAT-3','DEFI-STRAT-4',\n",
    "             'GATE-1-M-C','GATE-1-M-PT','DEFI-STRAT-5','DEFI-STRAT-6','DEFI-STRAT-8']\n",
    "loans     = ['LEND-GACM', 'LEND-HUBI', 'LEND-LMAC','LEND-PITX','LEND-XRPF','LEND-OKEX','HUBI-3-S3-M Loan','HUBI-M','HUB2-M',\n",
    "             'LEND-OXTF','WOOX-1-M-E','FTXE-1-M-E','OKEX-2-U1','LEND-HUBS6','BULL-1-M-M Loan','BULL-2-M-M Loan','LEND-BULL',\n",
    "             'OKEX-2-S3','BINE-2-S1-M','DEFI-STRAT-1 Loan','GATE-1-M-M Loan','BINE-2-S2-M','DEFI-STRAT-8 Loan']"
   ]
  },
  {
   "cell_type": "code",
   "execution_count": 5,
   "metadata": {},
   "outputs": [],
   "source": [
    "########################################\n",
    "# Get assets and liabilities for today #\n",
    "########################################\n",
    "td          = {} # dictionary to store all outputs\n",
    "td[\"day\"]   = today\n",
    "td['marks'] = get_marks(today) #old"
   ]
  },
  {
   "cell_type": "code",
   "execution_count": 6,
   "metadata": {},
   "outputs": [],
   "source": [
    "# Get today's assets\n",
    "td['assets'] = get_assets(today, exchanges, td['marks'])"
   ]
  },
  {
   "cell_type": "code",
   "execution_count": 7,
   "metadata": {
    "tags": []
   },
   "outputs": [
    {
     "data": {
      "text/html": [
       "<div>\n",
       "<style scoped>\n",
       "    .dataframe tbody tr th:only-of-type {\n",
       "        vertical-align: middle;\n",
       "    }\n",
       "\n",
       "    .dataframe tbody tr th {\n",
       "        vertical-align: top;\n",
       "    }\n",
       "\n",
       "    .dataframe thead th {\n",
       "        text-align: right;\n",
       "    }\n",
       "</style>\n",
       "<table border=\"1\" class=\"dataframe\">\n",
       "  <thead>\n",
       "    <tr style=\"text-align: right;\">\n",
       "      <th></th>\n",
       "      <th>Account</th>\n",
       "      <th>Balance</th>\n",
       "      <th>BalanceType</th>\n",
       "      <th>Currency</th>\n",
       "      <th>Source</th>\n",
       "      <th>Timestamp</th>\n",
       "      <th>Timestamp_Native</th>\n",
       "      <th>Notional</th>\n",
       "    </tr>\n",
       "  </thead>\n",
       "  <tbody>\n",
       "    <tr>\n",
       "      <th>0</th>\n",
       "      <td>BINE-2-S1-E</td>\n",
       "      <td>792.24</td>\n",
       "      <td></td>\n",
       "      <td>AAVE</td>\n",
       "      <td>bine_2_s1_e.account_asset</td>\n",
       "      <td>20230130</td>\n",
       "      <td>2023-01-31 00:00:00.310</td>\n",
       "      <td>64,206.48</td>\n",
       "    </tr>\n",
       "    <tr>\n",
       "      <th>1</th>\n",
       "      <td>BINE-2-S1-E</td>\n",
       "      <td>258,771.26</td>\n",
       "      <td></td>\n",
       "      <td>ADA</td>\n",
       "      <td>bine_2_s1_e.account_asset</td>\n",
       "      <td>20230130</td>\n",
       "      <td>2023-01-31 00:00:00.310</td>\n",
       "      <td>96,395.08</td>\n",
       "    </tr>\n",
       "  </tbody>\n",
       "</table>\n",
       "</div>"
      ],
      "text/plain": [
       "       Account    Balance BalanceType Currency                     Source  \\\n",
       "0  BINE-2-S1-E     792.24                 AAVE  bine_2_s1_e.account_asset   \n",
       "1  BINE-2-S1-E 258,771.26                  ADA  bine_2_s1_e.account_asset   \n",
       "\n",
       "  Timestamp        Timestamp_Native  Notional  \n",
       "0  20230130 2023-01-31 00:00:00.310 64,206.48  \n",
       "1  20230130 2023-01-31 00:00:00.310 96,395.08  "
      ]
     },
     "execution_count": 7,
     "metadata": {},
     "output_type": "execute_result"
    }
   ],
   "source": [
    "td['assets'].head(2)"
   ]
  },
  {
   "cell_type": "code",
   "execution_count": 8,
   "metadata": {},
   "outputs": [],
   "source": [
    "# Get today's liabilities\n",
    "td['loans'] = get_loans(today, loans, td['marks'])"
   ]
  },
  {
   "cell_type": "code",
   "execution_count": 9,
   "metadata": {},
   "outputs": [],
   "source": [
    "# Get today's ED&F's cash margin balance\n",
    "td['edf'] = get_edf_cash(today, fileloc=datlib_loc)"
   ]
  },
  {
   "cell_type": "code",
   "execution_count": 10,
   "metadata": {},
   "outputs": [],
   "source": [
    "# Get today's bank balances\n",
    "td['bmo'], td['slv'], td['sig'] = get_bank_balances(today)"
   ]
  },
  {
   "cell_type": "code",
   "execution_count": 11,
   "metadata": {},
   "outputs": [],
   "source": [
    "############################################\n",
    "# Get assets and liabilities for yesterday #\n",
    "############################################\n",
    "yd          = {} # dictionary to store all outputs\n",
    "yd[\"day\"]   = yesterday\n",
    "yd['marks'] = get_marks(yesterday)"
   ]
  },
  {
   "cell_type": "code",
   "execution_count": 12,
   "metadata": {},
   "outputs": [],
   "source": [
    "# Get yesterday's assets\n",
    "yd['assets'] = get_assets(yesterday, exchanges, yd['marks'])"
   ]
  },
  {
   "cell_type": "code",
   "execution_count": 13,
   "metadata": {},
   "outputs": [],
   "source": [
    "# Get yesterday's liabilities\n",
    "yd['loans'] = get_loans(yesterday, loans, yd['marks'])"
   ]
  },
  {
   "cell_type": "code",
   "execution_count": 14,
   "metadata": {},
   "outputs": [],
   "source": [
    "# Get yesterday's ED&F's cash margin balance\n",
    "yd['edf'] = get_edf_cash(yesterday, fileloc=datlib_loc)"
   ]
  },
  {
   "cell_type": "code",
   "execution_count": 15,
   "metadata": {},
   "outputs": [],
   "source": [
    "# Get yesterday's bank balances\n",
    "yd['bmo'], yd['slv'], yd['sig'] = get_bank_balances(yesterday)"
   ]
  },
  {
   "cell_type": "code",
   "execution_count": 16,
   "metadata": {},
   "outputs": [],
   "source": [
    "# Create summaries of bluescales\n",
    "bs = summarize_bluescales(td, yd, bs_info)"
   ]
  },
  {
   "cell_type": "code",
   "execution_count": 17,
   "metadata": {},
   "outputs": [],
   "source": [
    "# Create summary of all assets and loans\n",
    "summary = summarize_all(td, yd, bs)"
   ]
  },
  {
   "cell_type": "code",
   "execution_count": 18,
   "metadata": {
    "tags": []
   },
   "outputs": [
    {
     "data": {
      "text/html": [
       "<div>\n",
       "<style scoped>\n",
       "    .dataframe tbody tr th:only-of-type {\n",
       "        vertical-align: middle;\n",
       "    }\n",
       "\n",
       "    .dataframe tbody tr th {\n",
       "        vertical-align: top;\n",
       "    }\n",
       "\n",
       "    .dataframe thead th {\n",
       "        text-align: right;\n",
       "    }\n",
       "</style>\n",
       "<table border=\"1\" class=\"dataframe\">\n",
       "  <thead>\n",
       "    <tr style=\"text-align: right;\">\n",
       "      <th></th>\n",
       "      <th>20230129</th>\n",
       "      <th>20230130</th>\n",
       "      <th>Delta</th>\n",
       "    </tr>\n",
       "    <tr>\n",
       "      <th>Account</th>\n",
       "      <th></th>\n",
       "      <th></th>\n",
       "      <th></th>\n",
       "    </tr>\n",
       "  </thead>\n",
       "  <tbody>\n",
       "    <tr>\n",
       "      <th>Net Assets</th>\n",
       "      <td>62,417,862.40</td>\n",
       "      <td>58,797,120.78</td>\n",
       "      <td>-3,620,741.62</td>\n",
       "    </tr>\n",
       "  </tbody>\n",
       "</table>\n",
       "</div>"
      ],
      "text/plain": [
       "                20230129      20230130         Delta\n",
       "Account                                             \n",
       "Net Assets 62,417,862.40 58,797,120.78 -3,620,741.62"
      ]
     },
     "execution_count": 18,
     "metadata": {},
     "output_type": "execute_result"
    }
   ],
   "source": [
    "# Quick sanity check to see if today, yesterday's and change in NAV makes sense\n",
    "summary.tail(1)"
   ]
  },
  {
   "cell_type": "code",
   "execution_count": 19,
   "metadata": {},
   "outputs": [
    {
     "data": {
      "text/html": [
       "<div>\n",
       "<style scoped>\n",
       "    .dataframe tbody tr th:only-of-type {\n",
       "        vertical-align: middle;\n",
       "    }\n",
       "\n",
       "    .dataframe tbody tr th {\n",
       "        vertical-align: top;\n",
       "    }\n",
       "\n",
       "    .dataframe thead th {\n",
       "        text-align: right;\n",
       "    }\n",
       "</style>\n",
       "<table border=\"1\" class=\"dataframe\">\n",
       "  <thead>\n",
       "    <tr style=\"text-align: right;\">\n",
       "      <th></th>\n",
       "      <th>20230129</th>\n",
       "      <th>20230130</th>\n",
       "      <th>Delta</th>\n",
       "    </tr>\n",
       "    <tr>\n",
       "      <th>Account</th>\n",
       "      <th></th>\n",
       "      <th></th>\n",
       "      <th></th>\n",
       "    </tr>\n",
       "  </thead>\n",
       "  <tbody>\n",
       "    <tr>\n",
       "      <th>FTXE-1-M-E</th>\n",
       "      <td>0.00</td>\n",
       "      <td>0.00</td>\n",
       "      <td>0.00</td>\n",
       "    </tr>\n",
       "    <tr>\n",
       "      <th>LMAX</th>\n",
       "      <td>10,852.32</td>\n",
       "      <td>10,852.32</td>\n",
       "      <td>0.00</td>\n",
       "    </tr>\n",
       "    <tr>\n",
       "      <th>BULL-1-M-M</th>\n",
       "      <td>0.00</td>\n",
       "      <td>0.00</td>\n",
       "      <td>0.00</td>\n",
       "    </tr>\n",
       "    <tr>\n",
       "      <th>BULL-2-M-M</th>\n",
       "      <td>0.00</td>\n",
       "      <td>0.00</td>\n",
       "      <td>0.00</td>\n",
       "    </tr>\n",
       "    <tr>\n",
       "      <th>BINE-2-S2-E</th>\n",
       "      <td>0.00</td>\n",
       "      <td>0.00</td>\n",
       "      <td>0.00</td>\n",
       "    </tr>\n",
       "    <tr>\n",
       "      <th>BINE-2-S2-F</th>\n",
       "      <td>0.00</td>\n",
       "      <td>0.00</td>\n",
       "      <td>0.00</td>\n",
       "    </tr>\n",
       "    <tr>\n",
       "      <th>BINE-2-S2-M</th>\n",
       "      <td>0.00</td>\n",
       "      <td>0.00</td>\n",
       "      <td>0.00</td>\n",
       "    </tr>\n",
       "    <tr>\n",
       "      <th>Signature</th>\n",
       "      <td>0.00</td>\n",
       "      <td>0.00</td>\n",
       "      <td>0.00</td>\n",
       "    </tr>\n",
       "    <tr>\n",
       "      <th>BMO_USD</th>\n",
       "      <td>0.00</td>\n",
       "      <td>0.00</td>\n",
       "      <td>0.00</td>\n",
       "    </tr>\n",
       "    <tr>\n",
       "      <th>BMO_EUR</th>\n",
       "      <td>0.00</td>\n",
       "      <td>0.00</td>\n",
       "      <td>0.00</td>\n",
       "    </tr>\n",
       "    <tr>\n",
       "      <th>Wedbush</th>\n",
       "      <td>79,941.92</td>\n",
       "      <td>79,941.92</td>\n",
       "      <td>0.00</td>\n",
       "    </tr>\n",
       "    <tr>\n",
       "      <th>HUB2-M Margin Loan</th>\n",
       "      <td>0.00</td>\n",
       "      <td>0.00</td>\n",
       "      <td>0.00</td>\n",
       "    </tr>\n",
       "    <tr>\n",
       "      <th>HUBI-M Margin Loan</th>\n",
       "      <td>0.00</td>\n",
       "      <td>0.00</td>\n",
       "      <td>0.00</td>\n",
       "    </tr>\n",
       "    <tr>\n",
       "      <th>FTXE-1-M-E Margin Loan</th>\n",
       "      <td>0.00</td>\n",
       "      <td>0.00</td>\n",
       "      <td>0.00</td>\n",
       "    </tr>\n",
       "    <tr>\n",
       "      <th>LEND-LMAC</th>\n",
       "      <td>0.00</td>\n",
       "      <td>0.00</td>\n",
       "      <td>0.00</td>\n",
       "    </tr>\n",
       "    <tr>\n",
       "      <th>LEND-OKEX</th>\n",
       "      <td>0.00</td>\n",
       "      <td>0.00</td>\n",
       "      <td>0.00</td>\n",
       "    </tr>\n",
       "    <tr>\n",
       "      <th>OKEX-2-S3 Margin Loan</th>\n",
       "      <td>0.00</td>\n",
       "      <td>0.00</td>\n",
       "      <td>0.00</td>\n",
       "    </tr>\n",
       "    <tr>\n",
       "      <th>BINE-2-S2-M Margin Loan</th>\n",
       "      <td>0.00</td>\n",
       "      <td>0.00</td>\n",
       "      <td>0.00</td>\n",
       "    </tr>\n",
       "    <tr>\n",
       "      <th>BULL-1-M-M Loan</th>\n",
       "      <td>0.00</td>\n",
       "      <td>0.00</td>\n",
       "      <td>0.00</td>\n",
       "    </tr>\n",
       "    <tr>\n",
       "      <th>BULL-2-M-M Loan</th>\n",
       "      <td>0.00</td>\n",
       "      <td>0.00</td>\n",
       "      <td>0.00</td>\n",
       "    </tr>\n",
       "    <tr>\n",
       "      <th>GATE-1-M-M Loan</th>\n",
       "      <td>0.00</td>\n",
       "      <td>0.00</td>\n",
       "      <td>0.00</td>\n",
       "    </tr>\n",
       "    <tr>\n",
       "      <th>DEFI-STRAT-1 Loan</th>\n",
       "      <td>0.00</td>\n",
       "      <td>0.00</td>\n",
       "      <td>0.00</td>\n",
       "    </tr>\n",
       "    <tr>\n",
       "      <th>HUBI-3-S3-F</th>\n",
       "      <td>0.00</td>\n",
       "      <td>0.00</td>\n",
       "      <td>0.00</td>\n",
       "    </tr>\n",
       "    <tr>\n",
       "      <th>HUBI-3-S3-M</th>\n",
       "      <td>0.00</td>\n",
       "      <td>0.00</td>\n",
       "      <td>0.00</td>\n",
       "    </tr>\n",
       "    <tr>\n",
       "      <th>HUBI-3-S3-M Loan</th>\n",
       "      <td>0.00</td>\n",
       "      <td>0.00</td>\n",
       "      <td>0.00</td>\n",
       "    </tr>\n",
       "    <tr>\n",
       "      <th>HUBI-3-S3-P</th>\n",
       "      <td>0.00</td>\n",
       "      <td>0.00</td>\n",
       "      <td>0.00</td>\n",
       "    </tr>\n",
       "    <tr>\n",
       "      <th>HUBI-3-S3-E</th>\n",
       "      <td>0.00</td>\n",
       "      <td>0.00</td>\n",
       "      <td>0.00</td>\n",
       "    </tr>\n",
       "    <tr>\n",
       "      <th>Total BlueScale NAV</th>\n",
       "      <td>0.00</td>\n",
       "      <td>0.00</td>\n",
       "      <td>0.00</td>\n",
       "    </tr>\n",
       "    <tr>\n",
       "      <th>Less Huobi Contribution</th>\n",
       "      <td>0.00</td>\n",
       "      <td>0.00</td>\n",
       "      <td>0.00</td>\n",
       "    </tr>\n",
       "    <tr>\n",
       "      <th>Less Accrued Interest</th>\n",
       "      <td>-0.00</td>\n",
       "      <td>-0.00</td>\n",
       "      <td>0.00</td>\n",
       "    </tr>\n",
       "    <tr>\n",
       "      <th>Net BS BFC Assets</th>\n",
       "      <td>0.00</td>\n",
       "      <td>0.00</td>\n",
       "      <td>0.00</td>\n",
       "    </tr>\n",
       "  </tbody>\n",
       "</table>\n",
       "</div>"
      ],
      "text/plain": [
       "                         20230129  20230130 Delta\n",
       "Account                                          \n",
       "FTXE-1-M-E                   0.00      0.00  0.00\n",
       "LMAX                    10,852.32 10,852.32  0.00\n",
       "BULL-1-M-M                   0.00      0.00  0.00\n",
       "BULL-2-M-M                   0.00      0.00  0.00\n",
       "BINE-2-S2-E                  0.00      0.00  0.00\n",
       "BINE-2-S2-F                  0.00      0.00  0.00\n",
       "BINE-2-S2-M                  0.00      0.00  0.00\n",
       "Signature                    0.00      0.00  0.00\n",
       "BMO_USD                      0.00      0.00  0.00\n",
       "BMO_EUR                      0.00      0.00  0.00\n",
       "Wedbush                 79,941.92 79,941.92  0.00\n",
       "HUB2-M Margin Loan           0.00      0.00  0.00\n",
       "HUBI-M Margin Loan           0.00      0.00  0.00\n",
       "FTXE-1-M-E Margin Loan       0.00      0.00  0.00\n",
       "LEND-LMAC                    0.00      0.00  0.00\n",
       "LEND-OKEX                    0.00      0.00  0.00\n",
       "OKEX-2-S3 Margin Loan        0.00      0.00  0.00\n",
       "BINE-2-S2-M Margin Loan      0.00      0.00  0.00\n",
       "BULL-1-M-M Loan              0.00      0.00  0.00\n",
       "BULL-2-M-M Loan              0.00      0.00  0.00\n",
       "GATE-1-M-M Loan              0.00      0.00  0.00\n",
       "DEFI-STRAT-1 Loan            0.00      0.00  0.00\n",
       "HUBI-3-S3-F                  0.00      0.00  0.00\n",
       "HUBI-3-S3-M                  0.00      0.00  0.00\n",
       "HUBI-3-S3-M Loan             0.00      0.00  0.00\n",
       "HUBI-3-S3-P                  0.00      0.00  0.00\n",
       "HUBI-3-S3-E                  0.00      0.00  0.00\n",
       "Total BlueScale NAV          0.00      0.00  0.00\n",
       "Less Huobi Contribution      0.00      0.00  0.00\n",
       "Less Accrued Interest       -0.00     -0.00  0.00\n",
       "Net BS BFC Assets            0.00      0.00  0.00"
      ]
     },
     "execution_count": 19,
     "metadata": {},
     "output_type": "execute_result"
    }
   ],
   "source": [
    "summary[~(summary.index.isin(['BINE-MX-S1-P','BINE-MX-S1-F','BINE-MX-S1-E','BINE-MX-S1-M','PITX','LEND-PITX'])) & (summary.Delta==0)]"
   ]
  },
  {
   "cell_type": "code",
   "execution_count": 20,
   "metadata": {
    "tags": []
   },
   "outputs": [],
   "source": [
    "# Write the output file\n",
    "export_to_excel(td, yd, summary, fileloc=datlib_loc);"
   ]
  }
 ],
 "metadata": {
  "interpreter": {
   "hash": "581bb3911559d6b25ba1b5079a94779154dbad1bf4d800a8f0ad6d5baf56a0cb"
  },
  "kernelspec": {
   "display_name": "finops",
   "language": "python",
   "name": "finops"
  },
  "language_info": {
   "codemirror_mode": {
    "name": "ipython",
    "version": 3
   },
   "file_extension": ".py",
   "mimetype": "text/x-python",
   "name": "python",
   "nbconvert_exporter": "python",
   "pygments_lexer": "ipython3",
   "version": "3.9.1"
  }
 },
 "nbformat": 4,
 "nbformat_minor": 4
}
